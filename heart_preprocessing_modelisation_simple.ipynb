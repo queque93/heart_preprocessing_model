{
 "cells": [
  {
   "cell_type": "markdown",
   "metadata": {},
   "source": [
    "# IMPORTATION DES DONNEES ET CHARGEMENT DE LA LIBRAIRIE"
   ]
  },
  {
   "cell_type": "code",
   "execution_count": 1,
   "metadata": {},
   "outputs": [],
   "source": [
    "import pandas as pd \n",
    "import matplotlib.pyplot as plt \n",
    "import seaborn as sb\n",
    "import numpy as np\n",
    "from ipywidgets import interact\n",
    "\n",
    "# les méthodes de prétraitement\n",
    "\n",
    "from sklearn.model_selection import train_test_split\n",
    "\n",
    "from sklearn.preprocessing import StandardScaler, RobustScaler\n",
    "\n",
    "# les modeles de machine learning pour la situation\n",
    "\n",
    "from sklearn.model_selection import GridSearchCV\n",
    "\n",
    "from sklearn.model_selection import learning_curve\n",
    "\n",
    "from sklearn.linear_model import LogisticRegression\n",
    "\n",
    "from sklearn.ensemble import RandomForestClassifier,BaggingClassifier\n",
    "\n",
    "from sklearn.svm import SVC\n",
    "\n",
    "from sklearn.metrics import  classification_report, accuracy_score\n",
    "\n",
    "import warnings \n",
    "warnings.filterwarnings('ignore')"
   ]
  },
  {
   "cell_type": "code",
   "execution_count": 2,
   "metadata": {},
   "outputs": [],
   "source": [
    "df=pd.read_excel('heart_disease.xlsx')"
   ]
  },
  {
   "cell_type": "code",
   "execution_count": 3,
   "metadata": {},
   "outputs": [],
   "source": [
    "data = df.copy()"
   ]
  },
  {
   "cell_type": "code",
   "execution_count": 4,
   "metadata": {},
   "outputs": [
    {
     "data": {
      "text/html": [
       "<div>\n",
       "<style scoped>\n",
       "    .dataframe tbody tr th:only-of-type {\n",
       "        vertical-align: middle;\n",
       "    }\n",
       "\n",
       "    .dataframe tbody tr th {\n",
       "        vertical-align: top;\n",
       "    }\n",
       "\n",
       "    .dataframe thead th {\n",
       "        text-align: right;\n",
       "    }\n",
       "</style>\n",
       "<table border=\"1\" class=\"dataframe\">\n",
       "  <thead>\n",
       "    <tr style=\"text-align: right;\">\n",
       "      <th></th>\n",
       "      <th>AGE</th>\n",
       "      <th>SEXE</th>\n",
       "      <th>TDT</th>\n",
       "      <th>PAR</th>\n",
       "      <th>CHOLESTEROL</th>\n",
       "      <th>GAJ</th>\n",
       "      <th>ECG</th>\n",
       "      <th>FCMAX</th>\n",
       "      <th>ANGINE</th>\n",
       "      <th>DEPRESSION</th>\n",
       "      <th>PENTE</th>\n",
       "      <th>CŒUR</th>\n",
       "    </tr>\n",
       "  </thead>\n",
       "  <tbody>\n",
       "    <tr>\n",
       "      <th>0</th>\n",
       "      <td>40</td>\n",
       "      <td>homme</td>\n",
       "      <td>AA</td>\n",
       "      <td>140</td>\n",
       "      <td>289</td>\n",
       "      <td>0</td>\n",
       "      <td>Normal</td>\n",
       "      <td>172</td>\n",
       "      <td>Non</td>\n",
       "      <td>0.0</td>\n",
       "      <td>Ascendant</td>\n",
       "      <td>0</td>\n",
       "    </tr>\n",
       "    <tr>\n",
       "      <th>1</th>\n",
       "      <td>49</td>\n",
       "      <td>femme</td>\n",
       "      <td>DNA</td>\n",
       "      <td>160</td>\n",
       "      <td>180</td>\n",
       "      <td>0</td>\n",
       "      <td>Normal</td>\n",
       "      <td>156</td>\n",
       "      <td>Non</td>\n",
       "      <td>1.0</td>\n",
       "      <td>Plat</td>\n",
       "      <td>1</td>\n",
       "    </tr>\n",
       "    <tr>\n",
       "      <th>2</th>\n",
       "      <td>37</td>\n",
       "      <td>homme</td>\n",
       "      <td>AA</td>\n",
       "      <td>130</td>\n",
       "      <td>283</td>\n",
       "      <td>0</td>\n",
       "      <td>ST</td>\n",
       "      <td>98</td>\n",
       "      <td>Non</td>\n",
       "      <td>0.0</td>\n",
       "      <td>Ascendant</td>\n",
       "      <td>0</td>\n",
       "    </tr>\n",
       "    <tr>\n",
       "      <th>3</th>\n",
       "      <td>48</td>\n",
       "      <td>femme</td>\n",
       "      <td>ASY</td>\n",
       "      <td>138</td>\n",
       "      <td>214</td>\n",
       "      <td>0</td>\n",
       "      <td>Normal</td>\n",
       "      <td>108</td>\n",
       "      <td>Oui</td>\n",
       "      <td>1.5</td>\n",
       "      <td>Plat</td>\n",
       "      <td>1</td>\n",
       "    </tr>\n",
       "    <tr>\n",
       "      <th>4</th>\n",
       "      <td>54</td>\n",
       "      <td>homme</td>\n",
       "      <td>DNA</td>\n",
       "      <td>150</td>\n",
       "      <td>195</td>\n",
       "      <td>0</td>\n",
       "      <td>Normal</td>\n",
       "      <td>122</td>\n",
       "      <td>Non</td>\n",
       "      <td>0.0</td>\n",
       "      <td>Ascendant</td>\n",
       "      <td>0</td>\n",
       "    </tr>\n",
       "  </tbody>\n",
       "</table>\n",
       "</div>"
      ],
      "text/plain": [
       "   AGE   SEXE  TDT  PAR  CHOLESTEROL  GAJ     ECG  FCMAX ANGINE  DEPRESSION   \\\n",
       "0   40  homme   AA  140          289    0  Normal    172    Non          0.0   \n",
       "1   49  femme  DNA  160          180    0  Normal    156    Non          1.0   \n",
       "2   37  homme   AA  130          283    0      ST     98    Non          0.0   \n",
       "3   48  femme  ASY  138          214    0  Normal    108    Oui          1.5   \n",
       "4   54  homme  DNA  150          195    0  Normal    122    Non          0.0   \n",
       "\n",
       "       PENTE  CŒUR  \n",
       "0  Ascendant     0  \n",
       "1       Plat     1  \n",
       "2  Ascendant     0  \n",
       "3       Plat     1  \n",
       "4  Ascendant     0  "
      ]
     },
     "execution_count": 4,
     "metadata": {},
     "output_type": "execute_result"
    }
   ],
   "source": [
    "df.head()"
   ]
  },
  {
   "cell_type": "code",
   "execution_count": 5,
   "metadata": {},
   "outputs": [
    {
     "data": {
      "text/plain": [
       "(918, 12)"
      ]
     },
     "execution_count": 5,
     "metadata": {},
     "output_type": "execute_result"
    }
   ],
   "source": [
    "df.shape"
   ]
  },
  {
   "cell_type": "markdown",
   "metadata": {},
   "source": [
    "# PREPROCESSING "
   ]
  },
  {
   "cell_type": "markdown",
   "metadata": {},
   "source": [
    "Il n'y a pas de données manquantes dans ce jeu de données.\n",
    "Nous allons donc nous intéresser à l'encodage des variables qualitatives, à la normalisation des variables quantitatives\n",
    "et aux données abérrantes et cela par étapes avant d'aller à la modelisation pour chacun de ces cas jusqu'à trouver le bon modele "
   ]
  },
  {
   "cell_type": "markdown",
   "metadata": {},
   "source": [
    "- Encodage des variables qualitatives"
   ]
  },
  {
   "cell_type": "code",
   "execution_count": 6,
   "metadata": {},
   "outputs": [],
   "source": [
    "def features_ordinal(dataframe,variable):\n",
    "    '''Fonction permettant d'encoder les variables qualitatives ordinales\n",
    "    :param dataframe:fournir le dataframe\n",
    "    :param variable: fournir la liste de variable\n",
    "    '''\n",
    "    modalite={\n",
    "        'femme':0,\n",
    "        'homme':1,\n",
    "        'AT':0,\n",
    "        'AA':1,\n",
    "        'DNA':2,\n",
    "        'ASY':3,\n",
    "        'Normal':0,\n",
    "        'ST':1,\n",
    "        'LVH':2,\n",
    "        'Oui':1,\n",
    "        'Non':0,\n",
    "        'Ascendant':0,\n",
    "        'Plat':1,\n",
    "        'Descendant':2\n",
    "        \n",
    "    }\n",
    "    for col in variable:\n",
    "        if dataframe[col].dtype==object:\n",
    "            dataframe.loc[:,col]=dataframe[col].map(modalite)"
   ]
  },
  {
   "cell_type": "code",
   "execution_count": 7,
   "metadata": {},
   "outputs": [
    {
     "data": {
      "text/html": [
       "<div>\n",
       "<style scoped>\n",
       "    .dataframe tbody tr th:only-of-type {\n",
       "        vertical-align: middle;\n",
       "    }\n",
       "\n",
       "    .dataframe tbody tr th {\n",
       "        vertical-align: top;\n",
       "    }\n",
       "\n",
       "    .dataframe thead th {\n",
       "        text-align: right;\n",
       "    }\n",
       "</style>\n",
       "<table border=\"1\" class=\"dataframe\">\n",
       "  <thead>\n",
       "    <tr style=\"text-align: right;\">\n",
       "      <th></th>\n",
       "      <th>AGE</th>\n",
       "      <th>SEXE</th>\n",
       "      <th>TDT</th>\n",
       "      <th>PAR</th>\n",
       "      <th>CHOLESTEROL</th>\n",
       "      <th>GAJ</th>\n",
       "      <th>ECG</th>\n",
       "      <th>FCMAX</th>\n",
       "      <th>ANGINE</th>\n",
       "      <th>DEPRESSION</th>\n",
       "      <th>PENTE</th>\n",
       "      <th>CŒUR</th>\n",
       "    </tr>\n",
       "  </thead>\n",
       "  <tbody>\n",
       "    <tr>\n",
       "      <th>0</th>\n",
       "      <td>40</td>\n",
       "      <td>1</td>\n",
       "      <td>1</td>\n",
       "      <td>140</td>\n",
       "      <td>289</td>\n",
       "      <td>0</td>\n",
       "      <td>0</td>\n",
       "      <td>172</td>\n",
       "      <td>0</td>\n",
       "      <td>0.0</td>\n",
       "      <td>0</td>\n",
       "      <td>0</td>\n",
       "    </tr>\n",
       "    <tr>\n",
       "      <th>1</th>\n",
       "      <td>49</td>\n",
       "      <td>0</td>\n",
       "      <td>2</td>\n",
       "      <td>160</td>\n",
       "      <td>180</td>\n",
       "      <td>0</td>\n",
       "      <td>0</td>\n",
       "      <td>156</td>\n",
       "      <td>0</td>\n",
       "      <td>1.0</td>\n",
       "      <td>1</td>\n",
       "      <td>1</td>\n",
       "    </tr>\n",
       "    <tr>\n",
       "      <th>2</th>\n",
       "      <td>37</td>\n",
       "      <td>1</td>\n",
       "      <td>1</td>\n",
       "      <td>130</td>\n",
       "      <td>283</td>\n",
       "      <td>0</td>\n",
       "      <td>1</td>\n",
       "      <td>98</td>\n",
       "      <td>0</td>\n",
       "      <td>0.0</td>\n",
       "      <td>0</td>\n",
       "      <td>0</td>\n",
       "    </tr>\n",
       "    <tr>\n",
       "      <th>3</th>\n",
       "      <td>48</td>\n",
       "      <td>0</td>\n",
       "      <td>3</td>\n",
       "      <td>138</td>\n",
       "      <td>214</td>\n",
       "      <td>0</td>\n",
       "      <td>0</td>\n",
       "      <td>108</td>\n",
       "      <td>1</td>\n",
       "      <td>1.5</td>\n",
       "      <td>1</td>\n",
       "      <td>1</td>\n",
       "    </tr>\n",
       "    <tr>\n",
       "      <th>4</th>\n",
       "      <td>54</td>\n",
       "      <td>1</td>\n",
       "      <td>2</td>\n",
       "      <td>150</td>\n",
       "      <td>195</td>\n",
       "      <td>0</td>\n",
       "      <td>0</td>\n",
       "      <td>122</td>\n",
       "      <td>0</td>\n",
       "      <td>0.0</td>\n",
       "      <td>0</td>\n",
       "      <td>0</td>\n",
       "    </tr>\n",
       "  </tbody>\n",
       "</table>\n",
       "</div>"
      ],
      "text/plain": [
       "   AGE  SEXE  TDT  PAR  CHOLESTEROL  GAJ  ECG  FCMAX  ANGINE  DEPRESSION   \\\n",
       "0   40     1    1  140          289    0    0    172       0          0.0   \n",
       "1   49     0    2  160          180    0    0    156       0          1.0   \n",
       "2   37     1    1  130          283    0    1     98       0          0.0   \n",
       "3   48     0    3  138          214    0    0    108       1          1.5   \n",
       "4   54     1    2  150          195    0    0    122       0          0.0   \n",
       "\n",
       "   PENTE  CŒUR  \n",
       "0      0     0  \n",
       "1      1     1  \n",
       "2      0     0  \n",
       "3      1     1  \n",
       "4      0     0  "
      ]
     },
     "execution_count": 7,
     "metadata": {},
     "output_type": "execute_result"
    }
   ],
   "source": [
    "variable= df.select_dtypes(object).columns\n",
    "features_ordinal(df,variable)\n",
    "df.head()"
   ]
  },
  {
   "cell_type": "code",
   "execution_count": null,
   "metadata": {},
   "outputs": [],
   "source": []
  },
  {
   "cell_type": "markdown",
   "metadata": {},
   "source": [
    "- Division du jeu de donnée en jeu d'apprentissage et de test"
   ]
  },
  {
   "cell_type": "code",
   "execution_count": 8,
   "metadata": {},
   "outputs": [],
   "source": [
    "X=df.drop('CŒUR',axis=1)\n",
    "y=df['CŒUR']\n",
    "X_train,X_test,y_train,y_test = train_test_split(X,y,test_size=0.2,random_state=42,stratify=y)"
   ]
  },
  {
   "cell_type": "markdown",
   "metadata": {},
   "source": [
    "On  a conservé les memes proportions pour la variable cible en test,entrainenment et validation"
   ]
  },
  {
   "cell_type": "markdown",
   "metadata": {},
   "source": [
    "- Modelisation 1"
   ]
  },
  {
   "cell_type": "code",
   "execution_count": 13,
   "metadata": {},
   "outputs": [
    {
     "data": {
      "text/plain": [
       "0.907608695652174"
      ]
     },
     "execution_count": 13,
     "metadata": {},
     "output_type": "execute_result"
    }
   ],
   "source": [
    "# selection des variables \n",
    "\n",
    "rf = RandomForestClassifier(random_state=0)\n",
    "\n",
    "rf.fit(X_train,y_train)\n",
    "\n",
    "accuracy_score(y_test,rf.predict(X_test))"
   ]
  },
  {
   "cell_type": "code",
   "execution_count": 14,
   "metadata": {},
   "outputs": [
    {
     "name": "stdout",
     "output_type": "stream",
     "text": [
      "[0.07449733 0.02857452 0.12995175 0.06599451 0.10201219 0.02441361\n",
      " 0.02408754 0.11410641 0.07415575 0.10282105 0.25938533]\n"
     ]
    }
   ],
   "source": [
    "print(rf.feature_importances_)"
   ]
  },
  {
   "cell_type": "code",
   "execution_count": 15,
   "metadata": {},
   "outputs": [
    {
     "data": {
      "text/plain": [
       "PENTE          0.259385\n",
       "TDT            0.129952\n",
       "FCMAX          0.114106\n",
       "DEPRESSION     0.102821\n",
       "CHOLESTEROL    0.102012\n",
       "AGE            0.074497\n",
       "ANGINE         0.074156\n",
       "PAR            0.065995\n",
       "SEXE           0.028575\n",
       "GAJ            0.024414\n",
       "ECG            0.024088\n",
       "dtype: float64"
      ]
     },
     "execution_count": 15,
     "metadata": {},
     "output_type": "execute_result"
    }
   ],
   "source": [
    "vars_imp=pd.Series(rf.feature_importances_ , index=X_train.columns).sort_values(ascending=False)\n",
    "vars_imp"
   ]
  },
  {
   "cell_type": "code",
   "execution_count": 16,
   "metadata": {},
   "outputs": [
    {
     "data": {
      "image/png": "[encoded data removed]",
      "text/plain": [
       "<Figure size 432x288 with 1 Axes>"
      ]
     },
     "metadata": {
      "needs_background": "light"
     },
     "output_type": "display_data"
    }
   ],
   "source": [
    "sb.barplot(x=vars_imp,y=vars_imp.index)\n",
    "plt.show()"
   ]
  },
  {
   "cell_type": "code",
   "execution_count": 17,
   "metadata": {},
   "outputs": [],
   "source": [
    "vars_non_imp=['GAJ','SEXE','ECG']\n",
    "\n",
    "X_train = X_train.drop(vars_non_imp, axis=1)\n",
    "\n",
    "X_test=X_test.drop(vars_non_imp, axis=1)"
   ]
  },
  {
   "cell_type": "code",
   "execution_count": 19,
   "metadata": {},
   "outputs": [],
   "source": [
    "# #Regression logistique\n",
    "\n",
    "# lr= LogisticRegression(random_state=0)\n",
    "\n",
    "# lr_hyp_param={'C': [0.001,0.01,0.1, 1.0, 10, 100] }\n",
    "\n",
    "# lr_cv=GridSearchCV(lr, lr_hyp_param, cv = 5)\n",
    "\n",
    "# lr_cv.fit(X_train,y_train)\n",
    "\n",
    "# print(lr_cv.best_score_)\n",
    "# print(lr_cv.best_estimator_)"
   ]
  },
  {
   "cell_type": "code",
   "execution_count": 20,
   "metadata": {},
   "outputs": [
    {
     "name": "stdout",
     "output_type": "stream",
     "text": [
      "0.856937843630603\n",
      "RandomForestClassifier(max_depth=5, min_samples_leaf=3, min_samples_split=7,\n",
      "                       random_state=42)\n"
     ]
    }
   ],
   "source": [
    "# Foret aleatoire\n",
    "\n",
    "RF=RandomForestClassifier(random_state=42)\n",
    "\n",
    "params_RF = {\"max_depth\": [5,10,20,50,100,200],\n",
    "              \"max_features\":['auto', 'sqrt', 'log2'],\n",
    "              \"min_samples_split\": [2,3,5,7],\n",
    "           \"min_samples_leaf\": [1, 3,5,6]}\n",
    "\n",
    "RF_cv= GridSearchCV(RF, params_RF, cv = 5)\n",
    "\n",
    "RF_cv.fit(X_train,y_train)\n",
    "\n",
    "print(RF_cv.best_score_)\n",
    "\n",
    "print(RF_cv.best_estimator_)"
   ]
  },
  {
   "cell_type": "code",
   "execution_count": 21,
   "metadata": {},
   "outputs": [
    {
     "name": "stdout",
     "output_type": "stream",
     "text": [
      "0.8269313204733948\n",
      "SVC(C=10, kernel='linear', random_state=42)\n"
     ]
    }
   ],
   "source": [
    "# SVM\n",
    "##from sklearn.svm import SVC\n",
    " \n",
    "svc=SVC(random_state=42)\n",
    "\n",
    "svc_params={'C':[0.1,1,10], 'kernel':['linear','rbf','poly']}\n",
    "\n",
    "svc_cv=GridSearchCV(svc, svc_params , cv = 5)\n",
    "\n",
    "svc_cv.fit(X_train,y_train)\n",
    "\n",
    "print(svc_cv.best_score_)\n",
    "\n",
    "print(svc_cv.best_estimator_)"
   ]
  },
  {
   "cell_type": "code",
   "execution_count": 22,
   "metadata": {},
   "outputs": [
    {
     "name": "stdout",
     "output_type": "stream",
     "text": [
      "0.8405833566303234\n",
      "BaggingClassifier(n_estimators=5, random_state=42)\n"
     ]
    }
   ],
   "source": [
    "#bagging classifier\n",
    "\n",
    "##from sklearn.ensemble import BaggingClassifier\n",
    "\n",
    "bg=BaggingClassifier(random_state=42)\n",
    "\n",
    "params_bg = {'n_estimators': [5,10,20,50,100,200]}\n",
    "\n",
    "bg_cv= GridSearchCV(bg, params_bg, cv = 5)\n",
    "\n",
    "bg_cv.fit(X_train,y_train)\n",
    "\n",
    "print(bg_cv.best_score_)\n",
    "\n",
    "print(bg_cv.best_estimator_)"
   ]
  },
  {
   "cell_type": "code",
   "execution_count": 23,
   "metadata": {},
   "outputs": [],
   "source": [
    "#Evaluation de la performance\n",
    "\n",
    "def evaluation_model(model,features,labels):\n",
    "    pred  = model.predict(features)\n",
    "    score = accuracy_score(y_test,pred)\n",
    "    print('Score globale du modèle:', round(score,3))"
   ]
  },
  {
   "cell_type": "code",
   "execution_count": 24,
   "metadata": {},
   "outputs": [
    {
     "name": "stdout",
     "output_type": "stream",
     "text": [
      "model BaggingClassifier(n_estimators=5, random_state=42)\n",
      "Score globale du modèle: 0.793\n",
      "==========================================================================================\n",
      "model SVC(C=10, kernel='linear', random_state=42)\n",
      "Score globale du modèle: 0.826\n",
      "==========================================================================================\n",
      "model RandomForestClassifier(max_depth=5, min_samples_leaf=3, min_samples_split=7,\n",
      "                       random_state=42)\n",
      "Score globale du modèle: 0.875\n",
      "==========================================================================================\n"
     ]
    }
   ],
   "source": [
    "models=[bg_cv.best_estimator_,svc_cv.best_estimator_ ,RF_cv.best_estimator_]\n",
    "for model in models:\n",
    "    print('model ' + str(model))\n",
    "    evaluation_model(model, X_test, y_test)\n",
    "    print('='*90)"
   ]
  },
  {
   "cell_type": "code",
   "execution_count": 25,
   "metadata": {},
   "outputs": [],
   "source": [
    "def courbe_appentissage(model):\n",
    "    \n",
    "    model.fit(X_train, y_train)\n",
    "    predicted = model.predict(X_test)\n",
    "      \n",
    "    acc=accuracy_score(y_test, predicted)\n",
    "    print('acc: ', acc)\n",
    "    \n",
    "    N, train_score, val_score = learning_curve(model, X_train, y_train,\n",
    "                                               cv=5,\n",
    "                                               train_sizes=np.linspace(0.1, 1, 10))\n",
    "    \n",
    "    plt.figure(figsize=(12, 5))\n",
    "    plt.plot(N, train_score.mean(axis=1), label='train')\n",
    "    plt.plot(N, val_score.mean(axis=1), label='validation')\n",
    "    plt.title(model, fontsize=24)\n",
    "    plt.legend()\n",
    "    print('='*90)"
   ]
  },
  {
   "cell_type": "code",
   "execution_count": 26,
   "metadata": {},
   "outputs": [
    {
     "name": "stdout",
     "output_type": "stream",
     "text": [
      "acc:  0.7934782608695652\n",
      "==========================================================================================\n",
      "acc:  0.8260869565217391\n",
      "==========================================================================================\n",
      "acc:  0.875\n",
      "==========================================================================================\n"
     ]
    },
    {
     "data": {
      "image/png": "[encoded data removed]",
      "text/plain": [
       "<Figure size 864x360 with 1 Axes>"
      ]
     },
     "metadata": {
      "needs_background": "light"
     },
     "output_type": "display_data"
    },
    {
     "data": {
      "image/png": "[encoded data removed]",
      "text/plain": [
       "<Figure size 864x360 with 1 Axes>"
      ]
     },
     "metadata": {
      "needs_background": "light"
     },
     "output_type": "display_data"
    },
    {
     "data": {
      "image/png": "[encoded data removed]",
      "text/plain": [
       "<Figure size 864x360 with 1 Axes>"
      ]
     },
     "metadata": {
      "needs_background": "light"
     },
     "output_type": "display_data"
    }
   ],
   "source": [
    "for model in models:\n",
    "    courbe_appentissage(model)"
   ]
  },
  {
   "cell_type": "markdown",
   "metadata": {},
   "source": [
    "- Modelisation 2"
   ]
  },
  {
   "cell_type": "code",
   "execution_count": null,
   "metadata": {},
   "outputs": [],
   "source": [
    "# Normalisons les données quantitatives"
   ]
  }
 ],
 "metadata": {
  "kernelspec": {
   "display_name": "Python 3",
   "language": "python",
   "name": "python3"
  },
  "language_info": {
   "codemirror_mode": {
    "name": "ipython",
    "version": 3
   },
   "file_extension": ".py",
   "mimetype": "text/x-python",
   "name": "python",
   "nbconvert_exporter": "python",
   "pygments_lexer": "ipython3",
   "version": "3.8.5"
  }
 },
 "nbformat": 4,
 "nbformat_minor": 4
}
